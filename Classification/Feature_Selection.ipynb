{
 "cells": [
  {
   "cell_type": "code",
   "execution_count": null,
   "id": "268734bb",
   "metadata": {},
   "outputs": [],
   "source": [
    "from sklearn.feature_selection import RFECV\n",
    "from sklearn.model_selection import StratifiedKFold\n",
    "from scipy.stats import chi2_contingency, ttest_ind\n",
    "import pandas as pd\n",
    "import numpy as np\n",
    "import matplotlib.pyplot as plt\n",
    "import os\n",
    "\n",
    "def compute_p_value(feature, X, y, categorical_features):\n",
    "    if feature in categorical_features:\n",
    "        # Chi-squared test for categorical features\n",
    "        contingency_table = pd.crosstab(X[feature], y)\n",
    "        try:\n",
    "            _, p, _, _ = chi2_contingency(contingency_table)\n",
    "        except ValueError:\n",
    "            p = np.nan\n",
    "    else:\n",
    "        # t-test for continuous features\n",
    "        try:\n",
    "            group1 = X[y == y.unique()[0]][feature]\n",
    "            group2 = X[y == y.unique()[1]][feature]\n",
    "            _, p = ttest_ind(group1, group2, equal_var=False, nan_policy='omit')\n",
    "        except Exception:\n",
    "            p = np.nan\n",
    "    return p\n",
    "\n",
    "\n",
    "def run_rfecv(df, target_col, model, X, y, scoring='accuracy'):\n",
    "    results_dir = f\"{target_col}_RFECV\"\n",
    "    os.makedirs(results_dir, exist_ok=True)\n",
    "\n",
    "    model_name = type(model).__name__\n",
    "\n",
    "    selector = RFECV(\n",
    "        estimator=model,\n",
    "        step=1,\n",
    "        cv=StratifiedKFold(5),\n",
    "        scoring=scoring,\n",
    "        n_jobs=-1\n",
    "    )\n",
    "\n",
    "    all_cat = [\n",
    "        \"FHLBankID\", \"FIPSStateCode\", \"FIPSCountyCode\", \"MSA\", \"Purpose\", \"NumBor\",\n",
    "        \"CoRace\", \"BoGender\", \"CoGender\", \"Borrower Credit Score\",\n",
    "        \"Co-Borrower Credit Score\", \"Self\"\n",
    "    ]\n",
    "\n",
    "    categorical_features = [col for col in all_cat if col in X.columns]\n",
    "\n",
    "    selector.fit(X, y)\n",
    "\n",
    "    selected_features = X.columns[selector.support_]\n",
    "    try:\n",
    "        importances = selector.estimator_.feature_importances_\n",
    "    except AttributeError:\n",
    "        try:\n",
    "            importances = np.abs(selector.estimator_.coef_).flatten()\n",
    "        except AttributeError:\n",
    "            importances = np.zeros(len(selected_features))\n",
    "\n",
    "    importance_df = pd.DataFrame({\n",
    "        'Feature': selected_features,\n",
    "        'Importance': importances\n",
    "    }).sort_values(by='Importance', ascending=False)\n",
    "\n",
    "    importance_df['p-value'] = importance_df['Feature'].apply(\n",
    "    lambda f: compute_p_value(f, X[selected_features], y, categorical_features))\n",
    "\n",
    "    importance_csv_path = os.path.join(results_dir, f\"{model_name}_rfecv_importances.csv\")\n",
    "    importance_df.to_csv(importance_csv_path, index=False)\n",
    "\n",
    "    plt.figure(figsize=(10, 6))\n",
    "    plt.plot(range(1, len(selector.cv_results_['mean_test_score']) + 1),\n",
    "             selector.cv_results_['mean_test_score'], marker='o')\n",
    "    plt.xlabel(\"Number of Selected Features\")\n",
    "    plt.ylabel(f\"CV Score ({scoring})\")\n",
    "    plt.title(f\"RFECV - {model_name}\")\n",
    "    plt.grid(True)\n",
    "    plt.tight_layout()\n",
    "    plot_path = os.path.join(results_dir, f\"{model_name}_rfecv_plot.png\")\n",
    "    plt.savefig(plot_path)\n",
    "    plt.close()\n",
    "    \n",
    "    print(f\"{model_name}: Best {selector.n_features_} features selected. Results saved to {importance_csv_path}\")\n",
    "\n",
    "\n",
    "from sklearn.ensemble import RandomForestClassifier\n",
    "from sklearn.ensemble import GradientBoostingClassifier\n",
    "from catboost import CatBoostClassifier\n",
    "\n",
    "models = [\n",
    "    RandomForestClassifier(n_estimators=100, random_state=42),\n",
    "    GradientBoostingClassifier(n_estimators=100, random_state=42), \n",
    "    CatBoostClassifier(verbose=0, random_state=42),\n",
    "]"
   ]
  },
  {
   "cell_type": "code",
   "execution_count": null,
   "id": "7ea2ad77",
   "metadata": {},
   "outputs": [
    {
     "name": "stdout",
     "output_type": "stream",
     "text": [
      "RandomForestClassifier: Best 19 features selected. Results saved to BoGender_RFECV\\RandomForestClassifier_rfecv_importances.csv\n",
      "GradientBoostingClassifier: Best 8 features selected. Results saved to BoGender_RFECV\\GradientBoostingClassifier_rfecv_importances.csv\n",
      "CatBoostClassifier: Best 28 features selected. Results saved to BoGender_RFECV\\CatBoostClassifier_rfecv_importances.csv\n",
      "RandomForestClassifier: Best 27 features selected. Results saved to BoRace_RFECV\\RandomForestClassifier_rfecv_importances.csv\n",
      "GradientBoostingClassifier: Best 26 features selected. Results saved to BoRace_RFECV\\GradientBoostingClassifier_rfecv_importances.csv\n"
     ]
    },
    {
     "ename": "KeyboardInterrupt",
     "evalue": "",
     "output_type": "error",
     "traceback": [
      "\u001b[31m---------------------------------------------------------------------------\u001b[39m",
      "\u001b[31mKeyboardInterrupt\u001b[39m                         Traceback (most recent call last)",
      "\u001b[36mCell\u001b[39m\u001b[36m \u001b[39m\u001b[32mIn[14]\u001b[39m\u001b[32m, line 11\u001b[39m\n\u001b[32m      9\u001b[39m y = df[\u001b[33m\"\u001b[39m\u001b[33mBoRace\u001b[39m\u001b[33m\"\u001b[39m]\n\u001b[32m     10\u001b[39m \u001b[38;5;28;01mfor\u001b[39;00m model \u001b[38;5;129;01min\u001b[39;00m models:\n\u001b[32m---> \u001b[39m\u001b[32m11\u001b[39m     \u001b[43mrun_rfecv\u001b[49m\u001b[43m(\u001b[49m\u001b[43mdf\u001b[49m\u001b[43m,\u001b[49m\u001b[43m \u001b[49m\u001b[33;43m\"\u001b[39;49m\u001b[33;43mBoRace\u001b[39;49m\u001b[33;43m\"\u001b[39;49m\u001b[43m,\u001b[49m\u001b[43m \u001b[49m\u001b[43mmodel\u001b[49m\u001b[43m,\u001b[49m\u001b[43m \u001b[49m\u001b[43mX\u001b[49m\u001b[43m,\u001b[49m\u001b[43m \u001b[49m\u001b[43my\u001b[49m\u001b[43m)\u001b[49m\n\u001b[32m     12\u001b[39m \u001b[38;5;66;03m# ==========================================\u001b[39;00m\n\u001b[32m     13\u001b[39m df = pd.read_csv(\u001b[33m\"\u001b[39m\u001b[33mSamples/CoGender.csv\u001b[39m\u001b[33m\"\u001b[39m)\n",
      "\u001b[36mCell\u001b[39m\u001b[36m \u001b[39m\u001b[32mIn[13]\u001b[39m\u001b[32m, line 50\u001b[39m, in \u001b[36mrun_rfecv\u001b[39m\u001b[34m(df, target_col, model, X, y, scoring)\u001b[39m\n\u001b[32m     42\u001b[39m all_cat = [\n\u001b[32m     43\u001b[39m     \u001b[33m\"\u001b[39m\u001b[33mFHLBankID\u001b[39m\u001b[33m\"\u001b[39m, \u001b[33m\"\u001b[39m\u001b[33mFIPSStateCode\u001b[39m\u001b[33m\"\u001b[39m, \u001b[33m\"\u001b[39m\u001b[33mFIPSCountyCode\u001b[39m\u001b[33m\"\u001b[39m, \u001b[33m\"\u001b[39m\u001b[33mMSA\u001b[39m\u001b[33m\"\u001b[39m, \u001b[33m\"\u001b[39m\u001b[33mPurpose\u001b[39m\u001b[33m\"\u001b[39m, \u001b[33m\"\u001b[39m\u001b[33mNumBor\u001b[39m\u001b[33m\"\u001b[39m,\n\u001b[32m     44\u001b[39m     \u001b[33m\"\u001b[39m\u001b[33mCoRace\u001b[39m\u001b[33m\"\u001b[39m, \u001b[33m\"\u001b[39m\u001b[33mBoGender\u001b[39m\u001b[33m\"\u001b[39m, \u001b[33m\"\u001b[39m\u001b[33mCoGender\u001b[39m\u001b[33m\"\u001b[39m, \u001b[33m\"\u001b[39m\u001b[33mBorrower Credit Score\u001b[39m\u001b[33m\"\u001b[39m,\n\u001b[32m     45\u001b[39m     \u001b[33m\"\u001b[39m\u001b[33mCo-Borrower Credit Score\u001b[39m\u001b[33m\"\u001b[39m, \u001b[33m\"\u001b[39m\u001b[33mSelf\u001b[39m\u001b[33m\"\u001b[39m\n\u001b[32m     46\u001b[39m ]\n\u001b[32m     48\u001b[39m categorical_features = [col \u001b[38;5;28;01mfor\u001b[39;00m col \u001b[38;5;129;01min\u001b[39;00m all_cat \u001b[38;5;28;01mif\u001b[39;00m col \u001b[38;5;129;01min\u001b[39;00m X.columns]\n\u001b[32m---> \u001b[39m\u001b[32m50\u001b[39m \u001b[43mselector\u001b[49m\u001b[43m.\u001b[49m\u001b[43mfit\u001b[49m\u001b[43m(\u001b[49m\u001b[43mX\u001b[49m\u001b[43m,\u001b[49m\u001b[43m \u001b[49m\u001b[43my\u001b[49m\u001b[43m)\u001b[49m\n\u001b[32m     52\u001b[39m selected_features = X.columns[selector.support_]\n\u001b[32m     53\u001b[39m \u001b[38;5;28;01mtry\u001b[39;00m:\n",
      "\u001b[36mFile \u001b[39m\u001b[32mc:\\Users\\Matin\\Documents\\CIS890\\myenv\\Lib\\site-packages\\sklearn\\utils\\validation.py:63\u001b[39m, in \u001b[36m_deprecate_positional_args.<locals>._inner_deprecate_positional_args.<locals>.inner_f\u001b[39m\u001b[34m(*args, **kwargs)\u001b[39m\n\u001b[32m     61\u001b[39m extra_args = \u001b[38;5;28mlen\u001b[39m(args) - \u001b[38;5;28mlen\u001b[39m(all_args)\n\u001b[32m     62\u001b[39m \u001b[38;5;28;01mif\u001b[39;00m extra_args <= \u001b[32m0\u001b[39m:\n\u001b[32m---> \u001b[39m\u001b[32m63\u001b[39m     \u001b[38;5;28;01mreturn\u001b[39;00m \u001b[43mf\u001b[49m\u001b[43m(\u001b[49m\u001b[43m*\u001b[49m\u001b[43margs\u001b[49m\u001b[43m,\u001b[49m\u001b[43m \u001b[49m\u001b[43m*\u001b[49m\u001b[43m*\u001b[49m\u001b[43mkwargs\u001b[49m\u001b[43m)\u001b[49m\n\u001b[32m     65\u001b[39m \u001b[38;5;66;03m# extra_args > 0\u001b[39;00m\n\u001b[32m     66\u001b[39m args_msg = [\n\u001b[32m     67\u001b[39m     \u001b[33m\"\u001b[39m\u001b[38;5;132;01m{}\u001b[39;00m\u001b[33m=\u001b[39m\u001b[38;5;132;01m{}\u001b[39;00m\u001b[33m\"\u001b[39m.format(name, arg)\n\u001b[32m     68\u001b[39m     \u001b[38;5;28;01mfor\u001b[39;00m name, arg \u001b[38;5;129;01min\u001b[39;00m \u001b[38;5;28mzip\u001b[39m(kwonly_args[:extra_args], args[-extra_args:])\n\u001b[32m     69\u001b[39m ]\n",
      "\u001b[36mFile \u001b[39m\u001b[32mc:\\Users\\Matin\\Documents\\CIS890\\myenv\\Lib\\site-packages\\sklearn\\base.py:1389\u001b[39m, in \u001b[36m_fit_context.<locals>.decorator.<locals>.wrapper\u001b[39m\u001b[34m(estimator, *args, **kwargs)\u001b[39m\n\u001b[32m   1382\u001b[39m     estimator._validate_params()\n\u001b[32m   1384\u001b[39m \u001b[38;5;28;01mwith\u001b[39;00m config_context(\n\u001b[32m   1385\u001b[39m     skip_parameter_validation=(\n\u001b[32m   1386\u001b[39m         prefer_skip_nested_validation \u001b[38;5;129;01mor\u001b[39;00m global_skip_validation\n\u001b[32m   1387\u001b[39m     )\n\u001b[32m   1388\u001b[39m ):\n\u001b[32m-> \u001b[39m\u001b[32m1389\u001b[39m     \u001b[38;5;28;01mreturn\u001b[39;00m \u001b[43mfit_method\u001b[49m\u001b[43m(\u001b[49m\u001b[43mestimator\u001b[49m\u001b[43m,\u001b[49m\u001b[43m \u001b[49m\u001b[43m*\u001b[49m\u001b[43margs\u001b[49m\u001b[43m,\u001b[49m\u001b[43m \u001b[49m\u001b[43m*\u001b[49m\u001b[43m*\u001b[49m\u001b[43mkwargs\u001b[49m\u001b[43m)\u001b[49m\n",
      "\u001b[36mFile \u001b[39m\u001b[32mc:\\Users\\Matin\\Documents\\CIS890\\myenv\\Lib\\site-packages\\sklearn\\feature_selection\\_rfe.py:873\u001b[39m, in \u001b[36mRFECV.fit\u001b[39m\u001b[34m(self, X, y, groups, **params)\u001b[39m\n\u001b[32m    870\u001b[39m     parallel = Parallel(n_jobs=\u001b[38;5;28mself\u001b[39m.n_jobs)\n\u001b[32m    871\u001b[39m     func = delayed(_rfe_single_fit)\n\u001b[32m--> \u001b[39m\u001b[32m873\u001b[39m scores_features = \u001b[43mparallel\u001b[49m\u001b[43m(\u001b[49m\n\u001b[32m    874\u001b[39m \u001b[43m    \u001b[49m\u001b[43mfunc\u001b[49m\u001b[43m(\u001b[49m\u001b[43mclone\u001b[49m\u001b[43m(\u001b[49m\u001b[43mrfe\u001b[49m\u001b[43m)\u001b[49m\u001b[43m,\u001b[49m\u001b[43m \u001b[49m\u001b[38;5;28;43mself\u001b[39;49m\u001b[43m.\u001b[49m\u001b[43mestimator\u001b[49m\u001b[43m,\u001b[49m\u001b[43m \u001b[49m\u001b[43mX\u001b[49m\u001b[43m,\u001b[49m\u001b[43m \u001b[49m\u001b[43my\u001b[49m\u001b[43m,\u001b[49m\u001b[43m \u001b[49m\u001b[43mtrain\u001b[49m\u001b[43m,\u001b[49m\u001b[43m \u001b[49m\u001b[43mtest\u001b[49m\u001b[43m,\u001b[49m\u001b[43m \u001b[49m\u001b[43mscorer\u001b[49m\u001b[43m,\u001b[49m\u001b[43m \u001b[49m\u001b[43mrouted_params\u001b[49m\u001b[43m)\u001b[49m\n\u001b[32m    875\u001b[39m \u001b[43m    \u001b[49m\u001b[38;5;28;43;01mfor\u001b[39;49;00m\u001b[43m \u001b[49m\u001b[43mtrain\u001b[49m\u001b[43m,\u001b[49m\u001b[43m \u001b[49m\u001b[43mtest\u001b[49m\u001b[43m \u001b[49m\u001b[38;5;129;43;01min\u001b[39;49;00m\u001b[43m \u001b[49m\u001b[43mcv\u001b[49m\u001b[43m.\u001b[49m\u001b[43msplit\u001b[49m\u001b[43m(\u001b[49m\u001b[43mX\u001b[49m\u001b[43m,\u001b[49m\u001b[43m \u001b[49m\u001b[43my\u001b[49m\u001b[43m,\u001b[49m\u001b[43m \u001b[49m\u001b[43m*\u001b[49m\u001b[43m*\u001b[49m\u001b[43mrouted_params\u001b[49m\u001b[43m.\u001b[49m\u001b[43msplitter\u001b[49m\u001b[43m.\u001b[49m\u001b[43msplit\u001b[49m\u001b[43m)\u001b[49m\n\u001b[32m    876\u001b[39m \u001b[43m\u001b[49m\u001b[43m)\u001b[49m\n\u001b[32m    877\u001b[39m scores, step_n_features = \u001b[38;5;28mzip\u001b[39m(*scores_features)\n\u001b[32m    879\u001b[39m step_n_features_rev = np.array(step_n_features[\u001b[32m0\u001b[39m])[::-\u001b[32m1\u001b[39m]\n",
      "\u001b[36mFile \u001b[39m\u001b[32mc:\\Users\\Matin\\Documents\\CIS890\\myenv\\Lib\\site-packages\\sklearn\\utils\\parallel.py:77\u001b[39m, in \u001b[36mParallel.__call__\u001b[39m\u001b[34m(self, iterable)\u001b[39m\n\u001b[32m     72\u001b[39m config = get_config()\n\u001b[32m     73\u001b[39m iterable_with_config = (\n\u001b[32m     74\u001b[39m     (_with_config(delayed_func, config), args, kwargs)\n\u001b[32m     75\u001b[39m     \u001b[38;5;28;01mfor\u001b[39;00m delayed_func, args, kwargs \u001b[38;5;129;01min\u001b[39;00m iterable\n\u001b[32m     76\u001b[39m )\n\u001b[32m---> \u001b[39m\u001b[32m77\u001b[39m \u001b[38;5;28;01mreturn\u001b[39;00m \u001b[38;5;28;43msuper\u001b[39;49m\u001b[43m(\u001b[49m\u001b[43m)\u001b[49m\u001b[43m.\u001b[49m\u001b[34;43m__call__\u001b[39;49m\u001b[43m(\u001b[49m\u001b[43miterable_with_config\u001b[49m\u001b[43m)\u001b[49m\n",
      "\u001b[36mFile \u001b[39m\u001b[32mc:\\Users\\Matin\\Documents\\CIS890\\myenv\\Lib\\site-packages\\joblib\\parallel.py:2007\u001b[39m, in \u001b[36mParallel.__call__\u001b[39m\u001b[34m(self, iterable)\u001b[39m\n\u001b[32m   2001\u001b[39m \u001b[38;5;66;03m# The first item from the output is blank, but it makes the interpreter\u001b[39;00m\n\u001b[32m   2002\u001b[39m \u001b[38;5;66;03m# progress until it enters the Try/Except block of the generator and\u001b[39;00m\n\u001b[32m   2003\u001b[39m \u001b[38;5;66;03m# reaches the first `yield` statement. This starts the asynchronous\u001b[39;00m\n\u001b[32m   2004\u001b[39m \u001b[38;5;66;03m# dispatch of the tasks to the workers.\u001b[39;00m\n\u001b[32m   2005\u001b[39m \u001b[38;5;28mnext\u001b[39m(output)\n\u001b[32m-> \u001b[39m\u001b[32m2007\u001b[39m \u001b[38;5;28;01mreturn\u001b[39;00m output \u001b[38;5;28;01mif\u001b[39;00m \u001b[38;5;28mself\u001b[39m.return_generator \u001b[38;5;28;01melse\u001b[39;00m \u001b[38;5;28mlist\u001b[39m(output)\n",
      "\u001b[36mFile \u001b[39m\u001b[32mc:\\Users\\Matin\\Documents\\CIS890\\myenv\\Lib\\site-packages\\joblib\\parallel.py:1650\u001b[39m, in \u001b[36mParallel._get_outputs\u001b[39m\u001b[34m(self, iterator, pre_dispatch)\u001b[39m\n\u001b[32m   1647\u001b[39m     \u001b[38;5;28;01myield\u001b[39;00m\n\u001b[32m   1649\u001b[39m     \u001b[38;5;28;01mwith\u001b[39;00m \u001b[38;5;28mself\u001b[39m._backend.retrieval_context():\n\u001b[32m-> \u001b[39m\u001b[32m1650\u001b[39m         \u001b[38;5;28;01myield from\u001b[39;00m \u001b[38;5;28mself\u001b[39m._retrieve()\n\u001b[32m   1652\u001b[39m \u001b[38;5;28;01mexcept\u001b[39;00m \u001b[38;5;167;01mGeneratorExit\u001b[39;00m:\n\u001b[32m   1653\u001b[39m     \u001b[38;5;66;03m# The generator has been garbage collected before being fully\u001b[39;00m\n\u001b[32m   1654\u001b[39m     \u001b[38;5;66;03m# consumed. This aborts the remaining tasks if possible and warn\u001b[39;00m\n\u001b[32m   1655\u001b[39m     \u001b[38;5;66;03m# the user if necessary.\u001b[39;00m\n\u001b[32m   1656\u001b[39m     \u001b[38;5;28mself\u001b[39m._exception = \u001b[38;5;28;01mTrue\u001b[39;00m\n",
      "\u001b[36mFile \u001b[39m\u001b[32mc:\\Users\\Matin\\Documents\\CIS890\\myenv\\Lib\\site-packages\\joblib\\parallel.py:1762\u001b[39m, in \u001b[36mParallel._retrieve\u001b[39m\u001b[34m(self)\u001b[39m\n\u001b[32m   1757\u001b[39m \u001b[38;5;66;03m# If the next job is not ready for retrieval yet, we just wait for\u001b[39;00m\n\u001b[32m   1758\u001b[39m \u001b[38;5;66;03m# async callbacks to progress.\u001b[39;00m\n\u001b[32m   1759\u001b[39m \u001b[38;5;28;01mif\u001b[39;00m ((\u001b[38;5;28mlen\u001b[39m(\u001b[38;5;28mself\u001b[39m._jobs) == \u001b[32m0\u001b[39m) \u001b[38;5;129;01mor\u001b[39;00m\n\u001b[32m   1760\u001b[39m     (\u001b[38;5;28mself\u001b[39m._jobs[\u001b[32m0\u001b[39m].get_status(\n\u001b[32m   1761\u001b[39m         timeout=\u001b[38;5;28mself\u001b[39m.timeout) == TASK_PENDING)):\n\u001b[32m-> \u001b[39m\u001b[32m1762\u001b[39m     time.sleep(\u001b[32m0.01\u001b[39m)\n\u001b[32m   1763\u001b[39m     \u001b[38;5;28;01mcontinue\u001b[39;00m\n\u001b[32m   1765\u001b[39m \u001b[38;5;66;03m# We need to be careful: the job list can be filling up as\u001b[39;00m\n\u001b[32m   1766\u001b[39m \u001b[38;5;66;03m# we empty it and Python list are not thread-safe by\u001b[39;00m\n\u001b[32m   1767\u001b[39m \u001b[38;5;66;03m# default hence the use of the lock\u001b[39;00m\n",
      "\u001b[31mKeyboardInterrupt\u001b[39m: "
     ]
    }
   ],
   "source": [
    "df = pd.read_csv(\"Samples/BoGender.csv\")\n",
    "X = df.drop(columns=[\"BoGender\", \"CoGender\"])\n",
    "y = df[\"BoGender\"]\n",
    "for model in models:\n",
    "    run_rfecv(df, \"BoGender\", model, X, y)"
   ]
  },
  {
   "cell_type": "code",
   "execution_count": null,
   "id": "e961dfbc",
   "metadata": {},
   "outputs": [
    {
     "name": "stdout",
     "output_type": "stream",
     "text": [
      "RandomForestClassifier: Best 27 features selected. Results saved to BoRace_RFECV\\RandomForestClassifier_rfecv_importances.csv\n",
      "GradientBoostingClassifier: Best 26 features selected. Results saved to BoRace_RFECV\\GradientBoostingClassifier_rfecv_importances.csv\n",
      "CatBoostClassifier: Best 24 features selected. Results saved to BoRace_RFECV\\CatBoostClassifier_rfecv_importances.csv\n"
     ]
    }
   ],
   "source": [
    "\n",
    "# ==========================================\n",
    "df = pd.read_csv(\"Samples/BoRace.csv\")\n",
    "X = df.drop(columns=[\"BoRace\", \"CoRace\"])\n",
    "y = df[\"BoRace\"]\n",
    "for model in models:\n",
    "    run_rfecv(df, \"BoRace\", model, X, y)\n",
    "# ==========================================\n",
    "\n",
    "# =========================================="
   ]
  },
  {
   "cell_type": "code",
   "execution_count": null,
   "id": "1fd4045b",
   "metadata": {},
   "outputs": [
    {
     "name": "stdout",
     "output_type": "stream",
     "text": [
      "RandomForestClassifier: Best 9 features selected. Results saved to CoGender_RFECV\\RandomForestClassifier_rfecv_importances.csv\n",
      "GradientBoostingClassifier: Best 16 features selected. Results saved to CoGender_RFECV\\GradientBoostingClassifier_rfecv_importances.csv\n",
      "CatBoostClassifier: Best 24 features selected. Results saved to CoGender_RFECV\\CatBoostClassifier_rfecv_importances.csv\n"
     ]
    }
   ],
   "source": [
    "# ==========================================\n",
    "df = pd.read_csv(\"Samples/CoGender.csv\")\n",
    "X = df.drop(columns=[\"BoGender\", \"CoGender\"])\n",
    "y = df[\"CoGender\"]\n",
    "for model in models:\n",
    "    run_rfecv(df, \"CoGender\", model, X, y)\n",
    "# ==========================================\n",
    "\n",
    "# =========================================="
   ]
  },
  {
   "cell_type": "code",
   "execution_count": null,
   "id": "031fbd25",
   "metadata": {},
   "outputs": [
    {
     "name": "stdout",
     "output_type": "stream",
     "text": [
      "RandomForestClassifier: Best 28 features selected. Results saved to CoRace_RFECV\\RandomForestClassifier_rfecv_importances.csv\n",
      "GradientBoostingClassifier: Best 27 features selected. Results saved to CoRace_RFECV\\GradientBoostingClassifier_rfecv_importances.csv\n",
      "CatBoostClassifier: Best 27 features selected. Results saved to CoRace_RFECV\\CatBoostClassifier_rfecv_importances.csv\n"
     ]
    }
   ],
   "source": [
    "\n",
    "# ==========================================\n",
    "df = pd.read_csv(\"Samples/CoRace.csv\")\n",
    "X = df.drop(columns=[\"BoRace\", \"CoRace\"])\n",
    "y = df[\"CoRace\"]\n",
    "for model in models:\n",
    "    run_rfecv(df, \"CoRace\", model, X, y)\n",
    "# =========================================="
   ]
  }
 ],
 "metadata": {
  "kernelspec": {
   "display_name": "myenv",
   "language": "python",
   "name": "python3"
  },
  "language_info": {
   "codemirror_mode": {
    "name": "ipython",
    "version": 3
   },
   "file_extension": ".py",
   "mimetype": "text/x-python",
   "name": "python",
   "nbconvert_exporter": "python",
   "pygments_lexer": "ipython3",
   "version": "3.11.7"
  }
 },
 "nbformat": 4,
 "nbformat_minor": 5
}
